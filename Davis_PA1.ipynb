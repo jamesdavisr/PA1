{
 "cells": [
  {
   "cell_type": "code",
   "execution_count": 8,
   "id": "0267a754",
   "metadata": {},
   "outputs": [
    {
     "name": "stdout",
     "output_type": "stream",
     "text": [
      "aeirstv\n",
      "acgilnost\n"
     ]
    }
   ],
   "source": [
    "#PROBLEM 1\n",
    "def alphabet_soup(s):\n",
    "    char_list = list(s)\n",
    "    char_list.sort()\n",
    "    sorted_string = ''.join(char_list)\n",
    "    return sorted_string\n",
    "\n",
    "a = alphabet_soup('veritas')\n",
    "b = alphabet_soup('nostalgic')\n",
    "\n",
    "print(a)\n",
    "print(b)"
   ]
  },
  {
   "cell_type": "code",
   "execution_count": 1,
   "id": "f93b3816",
   "metadata": {},
   "outputs": [
    {
     "name": "stdout",
     "output_type": "stream",
     "text": [
      "Make me :)\n",
      "He said it with a :D\n",
      "Why is she :(( ?\n",
      "I am >:(\n"
     ]
    }
   ],
   "source": [
    "#PROBLEM 2\n",
    "def replace_with_emoticons(sentence):\n",
    "    emoticons = {\n",
    "        \"smile\": \":)\",\n",
    "        \"grin\": \":D\",\n",
    "        \"sad\": \":((\",\n",
    "        \"mad\": \">:(\"\n",
    "    }\n",
    "    \n",
    "    for word, emoticon in emoticons.items():\n",
    "        sentence = sentence.replace(word, emoticon)\n",
    "    \n",
    "    return sentence\n",
    "\n",
    "test_sentence = \"Make me smile\"\n",
    "test_sentence1 = \"He said it with a grin\"\n",
    "test_sentence2 = \"Why is she sad ?\"\n",
    "test_sentence3 = \"I am mad\"\n",
    "print(replace_with_emoticons(test_sentence))\n",
    "print(replace_with_emoticons(test_sentence1))\n",
    "print(replace_with_emoticons(test_sentence2))\n",
    "print(replace_with_emoticons(test_sentence3))"
   ]
  },
  {
   "cell_type": "code",
   "execution_count": 11,
   "id": "5c6313d9",
   "metadata": {},
   "outputs": [
    {
     "name": "stdout",
     "output_type": "stream",
     "text": [
      "List elements: 1 2 3 4 5 6\n",
      "first: 1\n",
      "last: 6\n",
      "middle:  2 3 4 5 \n"
     ]
    }
   ],
   "source": [
    "#PROBLEM 3\n",
    "writeyourcodehere = input('List elements: ')\n",
    "\n",
    "if writeyourcodehere:\n",
    "    print('first:', writeyoucodehere[0])\n",
    "    \n",
    "if writeyourcodehere:\n",
    "    print('last:', writeyoucodehere[-1])\n",
    "\n",
    "if len (writeyourcodehere) >= 3:\n",
    "    print('middle:', writeyoucodehere[1:-1])"
   ]
  }
 ],
 "metadata": {
  "kernelspec": {
   "display_name": "Python 3 (ipykernel)",
   "language": "python",
   "name": "python3"
  },
  "language_info": {
   "codemirror_mode": {
    "name": "ipython",
    "version": 3
   },
   "file_extension": ".py",
   "mimetype": "text/x-python",
   "name": "python",
   "nbconvert_exporter": "python",
   "pygments_lexer": "ipython3",
   "version": "3.11.4"
  }
 },
 "nbformat": 4,
 "nbformat_minor": 5
}
